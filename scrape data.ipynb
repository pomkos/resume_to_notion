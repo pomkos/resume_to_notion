{
 "cells": [
  {
   "cell_type": "code",
   "execution_count": 2,
   "id": "ab295e9b-a917-4fe0-a035-07d1111e49f4",
   "metadata": {},
   "outputs": [],
   "source": [
    "import bs4\n",
    "import pandas as pd\n",
    "import re"
   ]
  },
  {
   "cell_type": "code",
   "execution_count": 3,
   "id": "ededb07f-839b-41d6-bca3-de6d088e4cb3",
   "metadata": {},
   "outputs": [],
   "source": [
    "def extract_info_from_soup(html_filename: str) -> pd.DataFrame:\n",
    "    entry_classes = 'sc-fHaIPq ehhYXC'\n",
    "    company_classes = 'sc-lbAedR goolxk'\n",
    "    job_title_classes = 'sc-jagAyb jOapvc'\n",
    "    job_link_classes = 'sc-hBtbzO ekANGt'\n",
    "    date_added_classes = 'sc-dwcupg htOOi'\n",
    "    \n",
    "    entry_class = 'sc-fHaIPq'\n",
    "    company_class = 'sc-lbAedR'\n",
    "    job_title_class = 'sc-jagAyb'\n",
    "    job_link_class = 'sc-hBtbzO'\n",
    "    date_added_class = 'sc-dwcupg'\n",
    "\n",
    "    file = ''\n",
    "    with open(html_filename, 'r') as f:\n",
    "        text_list = f.readlines()\n",
    "        for line in text_list:\n",
    "            file += line\n",
    "\n",
    "    soup = bs4.BeautifulSoup(file, 'html.parser')\n",
    "    dataframe = pd.DataFrame()\n",
    "    for entry in soup.find_all(attrs={'class':entry_class}):\n",
    "        for c in entry:\n",
    "            if type(c) == bs4.element.Tag:\n",
    "                if len(c) > 5:\n",
    "                    has_date = c\n",
    "                    link = has_date.find_all('a', attrs={'class':job_link_class})\n",
    "                    if len(link) > 0:\n",
    "                        link = link[0].get('href')\n",
    "                    else:\n",
    "                        link = None\n",
    "                    date = has_date.find_all(attrs={'class':date_added_classes})\n",
    "                    date = date[0].text\n",
    "                    date = date.replace('\\n','')[21:]\n",
    "                else:\n",
    "                    if company_class in c['class']:\n",
    "                        company = c.text\n",
    "                    elif job_title_class in c['class']:\n",
    "                        job = c.text\n",
    "        dataframe = dataframe.append({\n",
    "            'company': company,\n",
    "            'job_title': job,\n",
    "            'date_applied': date,\n",
    "            'link': link\n",
    "        }, ignore_index=True)\n",
    "    return dataframe"
   ]
  },
  {
   "cell_type": "code",
   "execution_count": 4,
   "id": "1bb30445-6e65-43cb-b714-7a3c951cd2d9",
   "metadata": {},
   "outputs": [],
   "source": [
    "wishlist = extract_info_from_soup('wishlist.html')\n",
    "applied = extract_info_from_soup('applied.html')\n",
    "interview = extract_info_from_soup('interview.html')\n",
    "rejected = extract_info_from_soup('rejected.html')\n",
    "\n",
    "wishlist['status'] = 'wishlist'\n",
    "applied['status'] = 'applied'\n",
    "interview['status'] = 'interview'\n",
    "rejected['status'] = 'rejected'\n",
    "\n",
    "board = pd.DataFrame()\n",
    "for col in [wishlist, applied, interview, rejected]:\n",
    "    board = board.append(col)\n",
    "\n",
    "board['date_applied'] = pd.to_datetime(board['date_applied'] + ' 2021')\n",
    "board = board.sort_values('date_applied', ascending = False).reset_index(drop=True)"
   ]
  },
  {
   "cell_type": "code",
   "execution_count": 5,
   "id": "8d97f11f-8e87-4638-875c-9ad8fb328476",
   "metadata": {},
   "outputs": [
    {
     "data": {
      "text/html": [
       "<div>\n",
       "<style scoped>\n",
       "    .dataframe tbody tr th:only-of-type {\n",
       "        vertical-align: middle;\n",
       "    }\n",
       "\n",
       "    .dataframe tbody tr th {\n",
       "        vertical-align: top;\n",
       "    }\n",
       "\n",
       "    .dataframe thead th {\n",
       "        text-align: right;\n",
       "    }\n",
       "</style>\n",
       "<table border=\"1\" class=\"dataframe\">\n",
       "  <thead>\n",
       "    <tr style=\"text-align: right;\">\n",
       "      <th></th>\n",
       "      <th>company</th>\n",
       "      <th>job_title</th>\n",
       "      <th>date_applied</th>\n",
       "      <th>link</th>\n",
       "      <th>status</th>\n",
       "    </tr>\n",
       "  </thead>\n",
       "  <tbody>\n",
       "    <tr>\n",
       "      <th>0</th>\n",
       "      <td>Borrego</td>\n",
       "      <td>Data Analyst</td>\n",
       "      <td>2021-12-14 14:00:00</td>\n",
       "      <td>https://www.linkedin.com/jobs/view/2830632945</td>\n",
       "      <td>interview</td>\n",
       "    </tr>\n",
       "    <tr>\n",
       "      <th>1</th>\n",
       "      <td>Embold Health</td>\n",
       "      <td>Software Engineer</td>\n",
       "      <td>2021-12-14 13:36:00</td>\n",
       "      <td>https://www.linkedin.com/jobs/view/2817136029</td>\n",
       "      <td>applied</td>\n",
       "    </tr>\n",
       "  </tbody>\n",
       "</table>\n",
       "</div>"
      ],
      "text/plain": [
       "         company          job_title        date_applied  \\\n",
       "0        Borrego       Data Analyst 2021-12-14 14:00:00   \n",
       "1  Embold Health  Software Engineer 2021-12-14 13:36:00   \n",
       "\n",
       "                                            link     status  \n",
       "0  https://www.linkedin.com/jobs/view/2830632945  interview  \n",
       "1  https://www.linkedin.com/jobs/view/2817136029    applied  "
      ]
     },
     "execution_count": 5,
     "metadata": {},
     "output_type": "execute_result"
    }
   ],
   "source": [
    "board.head(2)"
   ]
  },
  {
   "cell_type": "code",
   "execution_count": 36,
   "id": "3e53350a-276e-41e0-a252-ae4721e6162d",
   "metadata": {},
   "outputs": [],
   "source": [
    "board.to_csv('job_search.csv', index=False)"
   ]
  },
  {
   "cell_type": "code",
   "execution_count": null,
   "id": "bd64c706-d2ac-4f74-93e8-24b773d39c1d",
   "metadata": {},
   "outputs": [],
   "source": []
  }
 ],
 "metadata": {
  "interpreter": {
   "hash": "7f9f08833d04d201a30d58ff0c5e83529c8424cf63720dbead8a738f3e81a16c"
  },
  "kernelspec": {
   "display_name": "Data Env",
   "language": "python",
   "name": "python3"
  },
  "language_info": {
   "codemirror_mode": {
    "name": "ipython",
    "version": 3
   },
   "file_extension": ".py",
   "mimetype": "text/x-python",
   "name": "python",
   "nbconvert_exporter": "python",
   "pygments_lexer": "ipython3",
   "version": "3.9.6"
  }
 },
 "nbformat": 4,
 "nbformat_minor": 5
}
